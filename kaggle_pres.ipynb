{
 "cells": [
  {
   "cell_type": "markdown",
   "id": "9e6a6dfd-0d60-471b-b110-907eabbc909e",
   "metadata": {
    "editable": true,
    "slideshow": {
     "slide_type": "slide"
    },
    "tags": []
   },
   "source": [
    "## What is Kaggle?"
   ]
  },
  {
   "cell_type": "markdown",
   "id": "2f5237d5-63a1-4e85-a96f-475704bb2bb6",
   "metadata": {
    "editable": true,
    "slideshow": {
     "slide_type": "fragment"
    },
    "tags": []
   },
   "source": [
    "* Platform for data science and machine learning competitions"
   ]
  },
  {
   "cell_type": "markdown",
   "id": "bfab18e8-a2bc-47f4-bc8d-7081b817d310",
   "metadata": {
    "editable": true,
    "slideshow": {
     "slide_type": "fragment"
    },
    "tags": []
   },
   "source": [
    "* Discussion forums"
   ]
  },
  {
   "cell_type": "markdown",
   "id": "735812a8-3eef-41b8-94a6-7429acf1aaef",
   "metadata": {
    "editable": true,
    "slideshow": {
     "slide_type": "fragment"
    },
    "tags": []
   },
   "source": [
    "* Home for datasets"
   ]
  },
  {
   "cell_type": "markdown",
   "id": "de66f591-88e5-4b4d-a1f3-d3b55e87992d",
   "metadata": {
    "editable": true,
    "slideshow": {
     "slide_type": "slide"
    },
    "tags": []
   },
   "source": [
    "![title](images/comps.png)"
   ]
  },
  {
   "cell_type": "markdown",
   "id": "df64cb24-8393-4930-9be4-c9da9f401589",
   "metadata": {
    "editable": true,
    "slideshow": {
     "slide_type": "slide"
    },
    "tags": []
   },
   "source": [
    "![title](images/sample_comp.png)"
   ]
  },
  {
   "cell_type": "markdown",
   "id": "f6fff326-0487-4959-ad13-e8cb702d0460",
   "metadata": {
    "editable": true,
    "slideshow": {
     "slide_type": "slide"
    },
    "tags": []
   },
   "source": [
    "## Competitions"
   ]
  },
  {
   "cell_type": "markdown",
   "id": "dcedbf51-aa90-4134-baa9-bd57c32def10",
   "metadata": {
    "editable": true,
    "slideshow": {
     "slide_type": "fragment"
    },
    "tags": []
   },
   "source": [
    "* Topic"
   ]
  },
  {
   "cell_type": "markdown",
   "id": "a55deea6-c060-4f8a-acc5-f3997fd84219",
   "metadata": {
    "editable": true,
    "slideshow": {
     "slide_type": "fragment"
    },
    "tags": []
   },
   "source": [
    "* Evaluation Metric"
   ]
  },
  {
   "cell_type": "markdown",
   "id": "f892ea91-a2a0-48ae-9b3f-90c8f38312cd",
   "metadata": {
    "editable": true,
    "slideshow": {
     "slide_type": "fragment"
    },
    "tags": []
   },
   "source": [
    "* Timeline"
   ]
  },
  {
   "cell_type": "markdown",
   "id": "06d7756d-5dad-4d29-b3fb-823783a50792",
   "metadata": {
    "editable": true,
    "slideshow": {
     "slide_type": "fragment"
    },
    "tags": []
   },
   "source": [
    "* Prizes"
   ]
  },
  {
   "cell_type": "markdown",
   "id": "719a39d4-a792-41e6-978f-8c7f87720dd8",
   "metadata": {
    "editable": true,
    "slideshow": {
     "slide_type": "fragment"
    },
    "tags": []
   },
   "source": [
    "* Competition Requirements"
   ]
  },
  {
   "cell_type": "markdown",
   "id": "772b604d-c385-4898-b0a7-028c5ea4d268",
   "metadata": {
    "editable": true,
    "slideshow": {
     "slide_type": "slide"
    },
    "tags": []
   },
   "source": [
    "### Topic\n",
    "![title](images/topic.png)"
   ]
  },
  {
   "cell_type": "markdown",
   "id": "0edd6643-5b44-412e-a1a6-bd66123869e4",
   "metadata": {
    "editable": true,
    "slideshow": {
     "slide_type": "slide"
    },
    "tags": []
   },
   "source": [
    "### Evaluation Metric\n",
    "![title](images/eval.png)"
   ]
  },
  {
   "cell_type": "markdown",
   "id": "2a778bd1-c0f8-4bce-908c-2c370027da0b",
   "metadata": {
    "editable": true,
    "slideshow": {
     "slide_type": "slide"
    },
    "tags": []
   },
   "source": [
    "### Timeline\n",
    "![title](images/time_bar.png)\n",
    "![title](images/timeline.png)"
   ]
  },
  {
   "cell_type": "markdown",
   "id": "e4b7a7f8-6bbc-4a6f-9442-28c17d2f7d46",
   "metadata": {
    "editable": true,
    "slideshow": {
     "slide_type": "slide"
    },
    "tags": []
   },
   "source": [
    "### Prizes\n",
    "![title](images/prizes.png)"
   ]
  },
  {
   "cell_type": "markdown",
   "id": "63925841-a278-4751-988c-3783632a0005",
   "metadata": {
    "editable": true,
    "slideshow": {
     "slide_type": "slide"
    },
    "tags": []
   },
   "source": [
    "### Competition Requirements\n",
    "![title](images/requirements.png)"
   ]
  },
  {
   "cell_type": "markdown",
   "id": "6ab62f25-b27e-4825-940f-0f9e9032f904",
   "metadata": {
    "editable": true,
    "slideshow": {
     "slide_type": "slide"
    },
    "tags": []
   },
   "source": [
    "## Notebooks\n",
    "![title](images/jupyterlab.png)"
   ]
  },
  {
   "attachments": {},
   "cell_type": "markdown",
   "id": "29728def-4728-420f-88bb-ad0f8d872060",
   "metadata": {
    "editable": true,
    "slideshow": {
     "slide_type": "slide"
    },
    "tags": []
   },
   "source": [
    "## Introduction\n",
    "\n",
    "Let's build up from the basics: what is a Jupyter Notebook? A notebook is a document made of cells. You can write in some of them (markdown cells) or you can perform calculations in Python (code cells) and run them like this:"
   ]
  },
  {
   "cell_type": "code",
   "execution_count": null,
   "id": "51bb71fd-07df-4524-b97b-45b7d5f46ece",
   "metadata": {
    "editable": true,
    "slideshow": {
     "slide_type": "fragment"
    },
    "tags": []
   },
   "outputs": [],
   "source": [
    "1+1"
   ]
  },
  {
   "cell_type": "code",
   "execution_count": null,
   "id": "6825eb4b-6a6e-4b67-b84b-c9f39a45273a",
   "metadata": {
    "editable": true,
    "slideshow": {
     "slide_type": "fragment"
    },
    "tags": []
   },
   "outputs": [],
   "source": []
  },
  {
   "cell_type": "markdown",
   "id": "a2678304-b9f6-4072-9018-353942f0e45e",
   "metadata": {
    "editable": true,
    "slideshow": {
     "slide_type": "slide"
    },
    "tags": []
   },
   "source": [
    "## Writing"
   ]
  },
  {
   "cell_type": "markdown",
   "id": "5761ba15-4998-452a-8d93-f1f701600558",
   "metadata": {
    "editable": true,
    "slideshow": {
     "slide_type": "fragment"
    },
    "tags": []
   },
   "source": [
    "* My first markdown cell"
   ]
  },
  {
   "cell_type": "markdown",
   "id": "bdace180-b850-4d52-9765-0801f7a47c2c",
   "metadata": {
    "editable": true,
    "slideshow": {
     "slide_type": "slide"
    },
    "tags": []
   },
   "source": [
    "## Code"
   ]
  },
  {
   "cell_type": "code",
   "execution_count": null,
   "id": "f9366bb9-04fc-4e43-835c-e3fd03138ba8",
   "metadata": {
    "editable": true,
    "slideshow": {
     "slide_type": "fragment"
    },
    "tags": []
   },
   "outputs": [],
   "source": [
    "print(\"Hello, world!\")"
   ]
  },
  {
   "cell_type": "code",
   "execution_count": null,
   "id": "8f8bd43f-1ce5-4a45-bce7-c6aa7dbbf6da",
   "metadata": {
    "editable": true,
    "slideshow": {
     "slide_type": "fragment"
    },
    "tags": []
   },
   "outputs": [],
   "source": []
  },
  {
   "cell_type": "markdown",
   "id": "3089e0fa-96b2-4d14-b89a-f91b62141894",
   "metadata": {
    "editable": true,
    "slideshow": {
     "slide_type": "slide"
    },
    "tags": []
   },
   "source": [
    "## Access Terminal Commands"
   ]
  },
  {
   "cell_type": "code",
   "execution_count": null,
   "id": "aa313b3f-1334-4dea-85d4-51b1a31ecbfb",
   "metadata": {
    "editable": true,
    "scrolled": true,
    "slideshow": {
     "slide_type": "fragment"
    },
    "tags": []
   },
   "outputs": [],
   "source": [
    "!pwd"
   ]
  },
  {
   "cell_type": "code",
   "execution_count": null,
   "id": "4d87a5d8-b835-4aa6-8de6-100b0d165469",
   "metadata": {
    "editable": true,
    "slideshow": {
     "slide_type": "fragment"
    },
    "tags": []
   },
   "outputs": [],
   "source": []
  },
  {
   "cell_type": "markdown",
   "id": "66ef2977-44e9-4789-abc2-4f90d2964f33",
   "metadata": {
    "editable": true,
    "slideshow": {
     "slide_type": "slide"
    },
    "tags": []
   },
   "source": [
    "## Code Capabilities"
   ]
  },
  {
   "cell_type": "code",
   "execution_count": null,
   "id": "07e5b325-d279-4d05-b41c-a3a623f4b766",
   "metadata": {
    "editable": true,
    "slideshow": {
     "slide_type": "fragment"
    },
    "tags": []
   },
   "outputs": [],
   "source": [
    "a = 1\n",
    "b = a + 1\n",
    "c = b + a + 1\n",
    "d = c + b + a + 1\n",
    "a, b, c ,d"
   ]
  },
  {
   "cell_type": "code",
   "execution_count": null,
   "id": "80914e9a-34be-4453-9063-95f7f3fafe26",
   "metadata": {
    "editable": true,
    "slideshow": {
     "slide_type": "fragment"
    },
    "tags": []
   },
   "outputs": [],
   "source": [
    "import matplotlib.pyplot as plt\n",
    "\n",
    "plt.plot([a,b,c,d])\n",
    "plt.show()"
   ]
  },
  {
   "cell_type": "code",
   "execution_count": null,
   "id": "0edae658-4ed9-43e4-bd0a-f40fb5d89d61",
   "metadata": {
    "editable": true,
    "slideshow": {
     "slide_type": "fragment"
    },
    "tags": []
   },
   "outputs": [],
   "source": []
  },
  {
   "cell_type": "code",
   "execution_count": null,
   "id": "41c50293-4f0a-4558-968d-9c9ccb9ffdef",
   "metadata": {
    "editable": true,
    "slideshow": {
     "slide_type": ""
    },
    "tags": []
   },
   "outputs": [],
   "source": [
    "%timeit [i+1 for i in range(1000)]"
   ]
  },
  {
   "cell_type": "markdown",
   "id": "52a0e91d-ab0e-473d-a426-4717c7913ea6",
   "metadata": {
    "editable": true,
    "slideshow": {
     "slide_type": ""
    },
    "tags": []
   },
   "source": [
    "`%debug`: Inspects a function which is showing an error using the [Python debugger](https://docs.python.org/3/library/pdb.html). If you type this in a cell just after an error, you will be directed to a console where you can inspect the values of all the variables.\n"
   ]
  },
  {
   "cell_type": "markdown",
   "id": "17b6dd30-9d9e-4e4a-862d-6cfb6c153147",
   "metadata": {
    "editable": true,
    "slideshow": {
     "slide_type": ""
    },
    "tags": []
   },
   "source": [
    "If you found this notebook useful, I'd greatly appreciate an upvote (on my original notebook [here](https://www.kaggle.com/code/jhoward/jupyter-notebook-101), not on the copy you made of it!) Don't hesitate to add a comment if you have any questions or thoughts to add, or have your own favorite Jupyter tips."
   ]
  }
 ],
 "metadata": {
  "kernelspec": {
   "display_name": "kaggle",
   "language": "python",
   "name": "kaggle"
  },
  "language_info": {
   "codemirror_mode": {
    "name": "ipython",
    "version": 3
   },
   "file_extension": ".py",
   "mimetype": "text/x-python",
   "name": "python",
   "nbconvert_exporter": "python",
   "pygments_lexer": "ipython3",
   "version": "3.11.6"
  }
 },
 "nbformat": 4,
 "nbformat_minor": 5
}
